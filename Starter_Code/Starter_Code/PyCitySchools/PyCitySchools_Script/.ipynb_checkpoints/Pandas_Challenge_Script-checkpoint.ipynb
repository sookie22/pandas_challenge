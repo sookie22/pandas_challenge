{
 "cells": [
  {
   "cell_type": "code",
   "execution_count": 23,
   "id": "081656a7",
   "metadata": {},
   "outputs": [
    {
     "data": {
      "text/html": [
       "<div>\n",
       "<style scoped>\n",
       "    .dataframe tbody tr th:only-of-type {\n",
       "        vertical-align: middle;\n",
       "    }\n",
       "\n",
       "    .dataframe tbody tr th {\n",
       "        vertical-align: top;\n",
       "    }\n",
       "\n",
       "    .dataframe thead th {\n",
       "        text-align: right;\n",
       "    }\n",
       "</style>\n",
       "<table border=\"1\" class=\"dataframe\">\n",
       "  <thead>\n",
       "    <tr style=\"text-align: right;\">\n",
       "      <th></th>\n",
       "      <th>Student ID</th>\n",
       "      <th>student_name</th>\n",
       "      <th>gender</th>\n",
       "      <th>year</th>\n",
       "      <th>school_name</th>\n",
       "      <th>reading_score</th>\n",
       "      <th>maths_score</th>\n",
       "      <th>School ID</th>\n",
       "      <th>type</th>\n",
       "      <th>size</th>\n",
       "      <th>budget</th>\n",
       "    </tr>\n",
       "  </thead>\n",
       "  <tbody>\n",
       "    <tr>\n",
       "      <th>0</th>\n",
       "      <td>0</td>\n",
       "      <td>Paul Bradley</td>\n",
       "      <td>M</td>\n",
       "      <td>9</td>\n",
       "      <td>Huang High School</td>\n",
       "      <td>96</td>\n",
       "      <td>94</td>\n",
       "      <td>0</td>\n",
       "      <td>Government</td>\n",
       "      <td>2917</td>\n",
       "      <td>1910635</td>\n",
       "    </tr>\n",
       "    <tr>\n",
       "      <th>1</th>\n",
       "      <td>1</td>\n",
       "      <td>Victor Smith</td>\n",
       "      <td>M</td>\n",
       "      <td>12</td>\n",
       "      <td>Huang High School</td>\n",
       "      <td>90</td>\n",
       "      <td>43</td>\n",
       "      <td>0</td>\n",
       "      <td>Government</td>\n",
       "      <td>2917</td>\n",
       "      <td>1910635</td>\n",
       "    </tr>\n",
       "    <tr>\n",
       "      <th>2</th>\n",
       "      <td>2</td>\n",
       "      <td>Kevin Rodriguez</td>\n",
       "      <td>M</td>\n",
       "      <td>12</td>\n",
       "      <td>Huang High School</td>\n",
       "      <td>41</td>\n",
       "      <td>76</td>\n",
       "      <td>0</td>\n",
       "      <td>Government</td>\n",
       "      <td>2917</td>\n",
       "      <td>1910635</td>\n",
       "    </tr>\n",
       "    <tr>\n",
       "      <th>3</th>\n",
       "      <td>3</td>\n",
       "      <td>Richard Scott</td>\n",
       "      <td>M</td>\n",
       "      <td>12</td>\n",
       "      <td>Huang High School</td>\n",
       "      <td>89</td>\n",
       "      <td>86</td>\n",
       "      <td>0</td>\n",
       "      <td>Government</td>\n",
       "      <td>2917</td>\n",
       "      <td>1910635</td>\n",
       "    </tr>\n",
       "    <tr>\n",
       "      <th>4</th>\n",
       "      <td>4</td>\n",
       "      <td>Bonnie Ray</td>\n",
       "      <td>F</td>\n",
       "      <td>9</td>\n",
       "      <td>Huang High School</td>\n",
       "      <td>87</td>\n",
       "      <td>69</td>\n",
       "      <td>0</td>\n",
       "      <td>Government</td>\n",
       "      <td>2917</td>\n",
       "      <td>1910635</td>\n",
       "    </tr>\n",
       "  </tbody>\n",
       "</table>\n",
       "</div>"
      ],
      "text/plain": [
       "   Student ID     student_name gender  year        school_name  reading_score  \\\n",
       "0           0     Paul Bradley      M     9  Huang High School             96   \n",
       "1           1     Victor Smith      M    12  Huang High School             90   \n",
       "2           2  Kevin Rodriguez      M    12  Huang High School             41   \n",
       "3           3    Richard Scott      M    12  Huang High School             89   \n",
       "4           4       Bonnie Ray      F     9  Huang High School             87   \n",
       "\n",
       "   maths_score  School ID        type  size   budget  \n",
       "0           94          0  Government  2917  1910635  \n",
       "1           43          0  Government  2917  1910635  \n",
       "2           76          0  Government  2917  1910635  \n",
       "3           86          0  Government  2917  1910635  \n",
       "4           69          0  Government  2917  1910635  "
      ]
     },
     "execution_count": 23,
     "metadata": {},
     "output_type": "execute_result"
    }
   ],
   "source": [
    "# Dependencies and Setup\n",
    "import pandas as pd\n",
    "from pathlib import Path\n",
    "\n",
    "# File to Load \n",
    "school_data_to_load = Path('C:\\\\Users\\\\sooki\\\\OneDrive\\\\Desktop\\\\Bootcamp Classwork Projects\\\\Week 4 - Pandas and Jupyter\\\\Pandas_Challenge\\\\pandas_challenge\\\\Starter_Code\\\\Starter_Code\\\\PyCitySchools\\\\Resources\\\\schools_complete.csv')\n",
    "student_data_to_load = Path('C:\\\\Users\\\\sooki\\\\OneDrive\\\\Desktop\\\\Bootcamp Classwork Projects\\\\Week 4 - Pandas and Jupyter\\\\Pandas_Challenge\\\\pandas_challenge\\\\Starter_Code\\\\Starter_Code\\\\PyCitySchools\\\\Resources\\\\students_complete.csv')\n",
    "\n",
    "# Read School and Student Data File and store into Pandas DataFrames\n",
    "school_data = pd.read_csv(school_data_to_load)\n",
    "student_data = pd.read_csv(student_data_to_load)\n",
    "\n",
    "# Combine the data into a single dataset.\n",
    "school_data_complete = pd.merge(student_data, school_data, how=\"left\", on=[\"school_name\", \"school_name\"])\n",
    "school_data_complete.head()"
   ]
  },
  {
   "cell_type": "markdown",
   "id": "c9c04fb0",
   "metadata": {},
   "source": [
    "# Local Government Area (LGA) Summary\n",
    "\n",
    "Perform the necessary calculations and then create a high-level snapshot of the local government area's key metrics in a DataFrame. \n",
    "\n",
    "Include the following:\n",
    "\n",
    "1) Total number of unique schools\n",
    "2) Total students\n",
    "3) Total budget\n",
    "4) Average maths score\n",
    "5) Average reading score\n",
    "6) % passing maths (the percentage of students who passed maths)\n",
    "7) % passing reading (the percentage of students who passed reading)\n",
    "8) % overall passing (the percentage of students who passed maths AND reading)\n",
    "\n",
    "Note: A passing grade is 50 or higher."
   ]
  },
  {
   "cell_type": "code",
   "execution_count": 35,
   "id": "e2f54788",
   "metadata": {},
   "outputs": [
    {
     "name": "stdout",
     "output_type": "stream",
     "text": [
      "The total number of unique schools is  15\n"
     ]
    }
   ],
   "source": [
    "# 1) Total number of unique schools\n",
    "\n",
    "unique_schools = school_data_complete[\"school_name\"].unique()\n",
    "total_unique_school_number = len(unique_schools)\n",
    "print(\"The total number of unique schools is \", total_unique_school_number)\n"
   ]
  },
  {
   "cell_type": "code",
   "execution_count": 36,
   "id": "5cc91f29",
   "metadata": {},
   "outputs": [
    {
     "name": "stdout",
     "output_type": "stream",
     "text": [
      "The total number of students is 39170\n"
     ]
    }
   ],
   "source": [
    "# 2) Total students\n",
    "\n",
    "total_students = len(school_data_complete[\"Student ID\"])\n",
    "print(\"The total number of students is\", total_students)"
   ]
  },
  {
   "cell_type": "code",
   "execution_count": 76,
   "id": "33de771f",
   "metadata": {},
   "outputs": [
    {
     "name": "stdout",
     "output_type": "stream",
     "text": [
      "Total budget for all unique schools: 24649428\n"
     ]
    }
   ],
   "source": [
    "# 3) Total budget\n",
    "\n",
    "# Get unique school names\n",
    "unique_schools = school_data_complete[\"school_name\"].unique()\n",
    "\n",
    "# Set a variable to store the total budget\n",
    "total_budget = 0\n",
    "\n",
    "# Iterate through unique school names and calculate budgets\n",
    "for school in unique_schools:\n",
    "    budget = school_data_complete[school_data_complete[\"school_name\"] == school]['budget'].iloc[0]\n",
    "    total_budget += budget\n",
    "\n",
    "# Print the sum of budgets for all unique schools\n",
    "print(\"Total budget for all unique schools:\", total_budget)"
   ]
  },
  {
   "cell_type": "code",
   "execution_count": 54,
   "id": "ba357624",
   "metadata": {},
   "outputs": [
    {
     "name": "stdout",
     "output_type": "stream",
     "text": [
      "The average maths score is  70.338\n"
     ]
    }
   ],
   "source": [
    "# 4) Average maths score\n",
    "\n",
    "avg_maths_score = \"{:.3f}\".format(sum(school_data_complete[\"maths_score\"] / len(school_data_complete[\"Student ID\"])))\n",
    "print(\"The average maths score is \", avg_maths_score)"
   ]
  },
  {
   "cell_type": "code",
   "execution_count": 53,
   "id": "438edc9b",
   "metadata": {},
   "outputs": [
    {
     "name": "stdout",
     "output_type": "stream",
     "text": [
      "The average reading score is  69.980\n"
     ]
    }
   ],
   "source": [
    "# 5) Average reading score\n",
    "\n",
    "avg_reading_score = \"{:.3f}\".format(sum(school_data_complete[\"reading_score\"] / len(school_data_complete[\"Student ID\"])))\n",
    "print(\"The average reading score is \", avg_reading_score)"
   ]
  },
  {
   "cell_type": "code",
   "execution_count": 69,
   "id": "42501989",
   "metadata": {},
   "outputs": [
    {
     "name": "stdout",
     "output_type": "stream",
     "text": [
      "The percentage of students who passed maths is 86.079%\n"
     ]
    }
   ],
   "source": [
    "# 6) % passing maths (the percentage of students who passed maths)\n",
    "# Note: A passing grade is 50 or higher.\n",
    "\n",
    "passing_maths = (school_data_complete['maths_score'] >= 50).sum()\n",
    "total_students = len(school_data_complete[\"Student ID\"])\n",
    "\n",
    "passing_maths_percentage = \"{:.3f}%\".format(passing_maths / total_students * 100)\n",
    "print(\"The percentage of students who passed maths is\", passing_maths_percentage)\n"
   ]
  },
  {
   "cell_type": "code",
   "execution_count": 70,
   "id": "ce202043",
   "metadata": {},
   "outputs": [
    {
     "name": "stdout",
     "output_type": "stream",
     "text": [
      "The percentage of students who passed reading is 84.427%\n"
     ]
    }
   ],
   "source": [
    "# 7)  % passing reading (the percentage of students who passed reading)\n",
    "# Note: A passing grade is 50 or higher.\n",
    "\n",
    "passing_reading = (school_data_complete['reading_score'] >= 50).sum()\n",
    "total_students = len(school_data_complete[\"Student ID\"])\n",
    "\n",
    "passing_reading_percentage = \"{:.3f}%\".format(passing_reading / total_students * 100)\n",
    "print(\"The percentage of students who passed reading is\", passing_reading_percentage)"
   ]
  },
  {
   "cell_type": "code",
   "execution_count": 71,
   "id": "3585be13",
   "metadata": {},
   "outputs": [
    {
     "name": "stdout",
     "output_type": "stream",
     "text": [
      "The percentage of students who passed both maths and reading is 72.808%\n"
     ]
    }
   ],
   "source": [
    "# 8) % overall passing (the percentage of students who passed maths AND reading)\n",
    "# Note: A passing grade is 50 or higher.\n",
    "\n",
    "passing_both = ((school_data_complete['maths_score'] >= 50) & (school_data_complete['reading_score'] >= 50)).sum()\n",
    "total_students = len(school_data_complete[\"Student ID\"])\n",
    "\n",
    "passing_both_percentage = \"{:.3f}%\".format(passing_both / total_students * 100)\n",
    "print(\"The percentage of students who passed both maths and reading is\", passing_both_percentage)"
   ]
  },
  {
   "cell_type": "code",
   "execution_count": 77,
   "id": "37b2c7f8",
   "metadata": {},
   "outputs": [
    {
     "data": {
      "text/html": [
       "<div>\n",
       "<style scoped>\n",
       "    .dataframe tbody tr th:only-of-type {\n",
       "        vertical-align: middle;\n",
       "    }\n",
       "\n",
       "    .dataframe tbody tr th {\n",
       "        vertical-align: top;\n",
       "    }\n",
       "\n",
       "    .dataframe thead th {\n",
       "        text-align: right;\n",
       "    }\n",
       "</style>\n",
       "<table border=\"1\" class=\"dataframe\">\n",
       "  <thead>\n",
       "    <tr style=\"text-align: right;\">\n",
       "      <th></th>\n",
       "      <th>Total Schools</th>\n",
       "      <th>Total Students</th>\n",
       "      <th>Total Budget</th>\n",
       "      <th>Average Maths Score</th>\n",
       "      <th>Average Reading Score</th>\n",
       "      <th>% Passing Maths</th>\n",
       "      <th>% Passing Reading</th>\n",
       "      <th>% Overall Passing</th>\n",
       "    </tr>\n",
       "  </thead>\n",
       "  <tbody>\n",
       "    <tr>\n",
       "      <th>0</th>\n",
       "      <td>15</td>\n",
       "      <td>39170</td>\n",
       "      <td>$24,649,428.00</td>\n",
       "      <td>70.338</td>\n",
       "      <td>69.980</td>\n",
       "      <td>86.079%</td>\n",
       "      <td>84.427%</td>\n",
       "      <td>72.808%</td>\n",
       "    </tr>\n",
       "  </tbody>\n",
       "</table>\n",
       "</div>"
      ],
      "text/plain": [
       "   Total Schools  Total Students    Total Budget Average Maths Score  \\\n",
       "0             15           39170  $24,649,428.00              70.338   \n",
       "\n",
       "  Average Reading Score % Passing Maths % Passing Reading % Overall Passing  \n",
       "0                69.980         86.079%           84.427%           72.808%  "
      ]
     },
     "execution_count": 77,
     "metadata": {},
     "output_type": "execute_result"
    }
   ],
   "source": [
    "data = {\"Total Schools\": [total_unique_school_number],\n",
    "        \"Total Students\": [total_students],\n",
    "        \"Total Budget\": [\"${:,.2f}\".format(total_budget)],\n",
    "        \"Average Maths Score\": [avg_maths_score],\n",
    "        \"Average Reading Score\": [avg_reading_score],\n",
    "        \"% Passing Maths\": [passing_maths_percentage],\n",
    "        \"% Passing Reading\": [passing_reading_percentage],\n",
    "        \"% Overall Passing\": [passing_both_percentage]}\n",
    "\n",
    "LGA_summary_df = pd.DataFrame(data)\n",
    "LGA_summary_df"
   ]
  },
  {
   "cell_type": "markdown",
   "id": "84d99bb6",
   "metadata": {},
   "source": [
    "## School Summary\n",
    "\n",
    "Perform the necessary calculations and then create a DataFrame that summarises key metrics about each school.\n",
    "\n",
    "Include the following:\n",
    "\n",
    "1) School name\n",
    "2) School type\n",
    "3) Total students\n",
    "4) Total school budget\n",
    "5) Per student budget\n",
    "6) Average maths score\n",
    "7) Average reading score\n",
    "8) % passing maths (the percentage of students who passed maths)\n",
    "9) % passing reading (the percentage of students who passed reading)\n",
    "10) % overall passing (the percentage of students who passed maths AND reading)"
   ]
  },
  {
   "cell_type": "code",
   "execution_count": null,
   "id": "5eedc06a",
   "metadata": {},
   "outputs": [],
   "source": []
  }
 ],
 "metadata": {
  "kernelspec": {
   "display_name": "Python 3 (ipykernel)",
   "language": "python",
   "name": "python3"
  },
  "language_info": {
   "codemirror_mode": {
    "name": "ipython",
    "version": 3
   },
   "file_extension": ".py",
   "mimetype": "text/x-python",
   "name": "python",
   "nbconvert_exporter": "python",
   "pygments_lexer": "ipython3",
   "version": "3.11.5"
  }
 },
 "nbformat": 4,
 "nbformat_minor": 5
}
